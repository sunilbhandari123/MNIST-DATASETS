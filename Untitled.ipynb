{
 "cells": [
  {
   "cell_type": "code",
   "execution_count": 60,
   "id": "38ef1540",
   "metadata": {},
   "outputs": [],
   "source": [
    "import numpy as np\n",
    "import tensorflow as tf\n",
    "import tensorflow_datasets as tfds"
   ]
  },
  {
   "cell_type": "code",
   "execution_count": 73,
   "id": "aacbdb31",
   "metadata": {},
   "outputs": [],
   "source": [
    "#loading the data sets from the mnist datasets\n",
    "mnist_datasets,mnist_info=tfds.load(name='mnist',with_info=True,as_supervised=True)\n",
    "\n",
    "#train and test datasets\n",
    "mnist_train,mnist_test=mnist_datasets['train'],mnist_datasets['test']\n",
    "\n",
    "#there is no validation datasets so we need to create the validation datasets in train datasets.\n",
    "num_validation_samples=0.1*mnist_info.splits['train'].num_examples\n",
    "\n",
    "#converting the validation datasets into int\n",
    "num_validation_samples=tf.cast(num_validation_samples,tf.int64)\n",
    "\n",
    "#testsamples\n",
    "num_test_samples=mnist_info.splits['test'].num_examples\n",
    "\n",
    "#converting testsamples into integer.\n",
    "num_test_samples=tf.cast(num_test_samples,tf.int64)\n",
    "\n",
    "\n",
    "\n",
    "\n",
    "def scale(image,label):\n",
    "    image=tf.cast(image,tf.float32)\n",
    "    image/=255.\n",
    "    return image,label\n",
    "\n",
    "\n",
    "\n",
    "scaled_trained_and_validation_datasets=mnist_train.map(scale)\n",
    "test_data=mnist_test.map(scale)\n",
    "\n",
    "\n",
    "#Shufflings \n",
    "BUFFER_SIZE=10000  #how many data to shuffle at once.\n",
    "\n",
    "#shuffling and storing in a  new variable\n",
    "shuffled_trained_and_validation_datasets=scaled_trained_and_validation_datasets.shuffle(BUFFER_SIZE)\n",
    "\n",
    "\n",
    "#validation data\n",
    "validation_data=shuffled_trained_and_validation_datasets.take(num_validation_samples)\n",
    "\n",
    "\n",
    "#train data is remaining all except the validation data\n",
    "train_data=shuffled_trained_and_validation_datasets.skip(num_validation_samples)\n",
    "\n",
    "\n",
    "BATCH_SIZE=10000 #how many batch to create\n",
    "\n",
    "train_data=train_data.batch(BATCH_SIZE)\n",
    "\n",
    "validation_data=validation_data.batch(num_validation_samples)\n",
    "\n",
    "test_data=test_data.batch(num_test_samples)\n",
    "\n",
    "#we should make train test and validation data same\n",
    "#upto to here it will take only one batch and for the next batch we should do\n",
    "\n",
    "validation_input,validation_target=next(iter(validation_data))"
   ]
  },
  {
   "cell_type": "code",
   "execution_count": 74,
   "id": "c1b77baa",
   "metadata": {},
   "outputs": [],
   "source": [
    "input_size=784\n",
    "output_size=10\n",
    "hidden_layer_size=50\n",
    "\n",
    "#defining the model\n",
    "\n",
    "model=tf.keras.Sequential([\n",
    "    tf.keras.layers.Flatten(input_shape=(28,28,1)),\n",
    "    tf.keras.layers.Dense(hidden_layer_size,activation='relu'),\n",
    "    tf.keras.layers.Dense(hidden_layer_size,activation='relu'),\n",
    "    tf.keras.layers.Dense(output_size,activation='softmax')\n",
    "    \n",
    "])"
   ]
  },
  {
   "cell_type": "code",
   "execution_count": 92,
   "id": "1233c9db",
   "metadata": {},
   "outputs": [],
   "source": [
    "#NOW WE HAVE TO DEAL WITH OPTIMISER(LEARNING RATE) AND LOSS FUNCTIONS\n",
    "custom_optimizer=tf.keras.optimizers.Adam(learning_rate=0.02)\n",
    "\n",
    "model.compile(optimizer=custom_optimizer,loss='sparse_categorical_crossentropy',metrics=['accuracy'])\n"
   ]
  },
  {
   "cell_type": "code",
   "execution_count": 93,
   "id": "c7b1f093",
   "metadata": {},
   "outputs": [
    {
     "name": "stdout",
     "output_type": "stream",
     "text": [
      "Epoch 1/50\n",
      "6/6 - 3s - loss: 1.7852 - accuracy: 0.6815 - val_loss: 0.9048 - val_accuracy: 0.7695 - 3s/epoch - 446ms/step\n",
      "Epoch 2/50\n",
      "6/6 - 1s - loss: 0.8294 - accuracy: 0.7403 - val_loss: 0.6070 - val_accuracy: 0.8198 - 1s/epoch - 196ms/step\n",
      "Epoch 3/50\n",
      "6/6 - 1s - loss: 0.5168 - accuracy: 0.8495 - val_loss: 0.4174 - val_accuracy: 0.8732 - 1s/epoch - 190ms/step\n",
      "Epoch 4/50\n",
      "6/6 - 1s - loss: 0.3855 - accuracy: 0.8859 - val_loss: 0.3359 - val_accuracy: 0.9037 - 1s/epoch - 201ms/step\n",
      "Epoch 5/50\n",
      "6/6 - 1s - loss: 0.3138 - accuracy: 0.9104 - val_loss: 0.2732 - val_accuracy: 0.9220 - 1s/epoch - 196ms/step\n",
      "Epoch 6/50\n",
      "6/6 - 1s - loss: 0.2675 - accuracy: 0.9217 - val_loss: 0.2419 - val_accuracy: 0.9300 - 1s/epoch - 191ms/step\n",
      "Epoch 7/50\n",
      "6/6 - 1s - loss: 0.2332 - accuracy: 0.9319 - val_loss: 0.2191 - val_accuracy: 0.9355 - 1s/epoch - 201ms/step\n",
      "Epoch 8/50\n",
      "6/6 - 1s - loss: 0.2124 - accuracy: 0.9366 - val_loss: 0.2023 - val_accuracy: 0.9398 - 1s/epoch - 187ms/step\n",
      "Epoch 9/50\n",
      "6/6 - 1s - loss: 0.1926 - accuracy: 0.9437 - val_loss: 0.1862 - val_accuracy: 0.9460 - 1s/epoch - 191ms/step\n",
      "Epoch 10/50\n",
      "6/6 - 1s - loss: 0.1814 - accuracy: 0.9462 - val_loss: 0.1757 - val_accuracy: 0.9485 - 1s/epoch - 197ms/step\n",
      "Epoch 11/50\n",
      "6/6 - 1s - loss: 0.1668 - accuracy: 0.9499 - val_loss: 0.1651 - val_accuracy: 0.9518 - 1s/epoch - 198ms/step\n",
      "Epoch 12/50\n",
      "6/6 - 1s - loss: 0.1589 - accuracy: 0.9529 - val_loss: 0.1590 - val_accuracy: 0.9525 - 1s/epoch - 185ms/step\n",
      "Epoch 13/50\n",
      "6/6 - 1s - loss: 0.1493 - accuracy: 0.9554 - val_loss: 0.1524 - val_accuracy: 0.9555 - 1s/epoch - 200ms/step\n",
      "Epoch 14/50\n",
      "6/6 - 1s - loss: 0.1421 - accuracy: 0.9574 - val_loss: 0.1452 - val_accuracy: 0.9583 - 1s/epoch - 194ms/step\n",
      "Epoch 15/50\n",
      "6/6 - 1s - loss: 0.1356 - accuracy: 0.9601 - val_loss: 0.1400 - val_accuracy: 0.9600 - 1s/epoch - 188ms/step\n",
      "Epoch 16/50\n",
      "6/6 - 1s - loss: 0.1296 - accuracy: 0.9609 - val_loss: 0.1344 - val_accuracy: 0.9623 - 1s/epoch - 218ms/step\n",
      "Epoch 17/50\n",
      "6/6 - 1s - loss: 0.1235 - accuracy: 0.9625 - val_loss: 0.1312 - val_accuracy: 0.9610 - 1s/epoch - 212ms/step\n",
      "Epoch 18/50\n",
      "6/6 - 1s - loss: 0.1187 - accuracy: 0.9643 - val_loss: 0.1249 - val_accuracy: 0.9630 - 1s/epoch - 205ms/step\n",
      "Epoch 19/50\n",
      "6/6 - 1s - loss: 0.1141 - accuracy: 0.9652 - val_loss: 0.1225 - val_accuracy: 0.9622 - 1s/epoch - 182ms/step\n",
      "Epoch 20/50\n",
      "6/6 - 1s - loss: 0.1073 - accuracy: 0.9676 - val_loss: 0.1187 - val_accuracy: 0.9648 - 1s/epoch - 211ms/step\n",
      "Epoch 21/50\n",
      "6/6 - 1s - loss: 0.1039 - accuracy: 0.9687 - val_loss: 0.1169 - val_accuracy: 0.9645 - 879ms/epoch - 147ms/step\n",
      "Epoch 22/50\n",
      "6/6 - 1s - loss: 0.1014 - accuracy: 0.9697 - val_loss: 0.1121 - val_accuracy: 0.9660 - 880ms/epoch - 147ms/step\n",
      "Epoch 23/50\n",
      "6/6 - 1s - loss: 0.0953 - accuracy: 0.9714 - val_loss: 0.1094 - val_accuracy: 0.9675 - 833ms/epoch - 139ms/step\n",
      "Epoch 24/50\n",
      "6/6 - 1s - loss: 0.0913 - accuracy: 0.9727 - val_loss: 0.1043 - val_accuracy: 0.9697 - 805ms/epoch - 134ms/step\n",
      "Epoch 25/50\n",
      "6/6 - 1s - loss: 0.0891 - accuracy: 0.9735 - val_loss: 0.1030 - val_accuracy: 0.9693 - 930ms/epoch - 155ms/step\n",
      "Epoch 26/50\n",
      "6/6 - 1s - loss: 0.0868 - accuracy: 0.9740 - val_loss: 0.1012 - val_accuracy: 0.9700 - 931ms/epoch - 155ms/step\n",
      "Epoch 27/50\n",
      "6/6 - 1s - loss: 0.0832 - accuracy: 0.9752 - val_loss: 0.0960 - val_accuracy: 0.9720 - 894ms/epoch - 149ms/step\n",
      "Epoch 28/50\n",
      "6/6 - 1s - loss: 0.0792 - accuracy: 0.9762 - val_loss: 0.0940 - val_accuracy: 0.9723 - 907ms/epoch - 151ms/step\n",
      "Epoch 29/50\n",
      "6/6 - 1s - loss: 0.0757 - accuracy: 0.9777 - val_loss: 0.0926 - val_accuracy: 0.9723 - 863ms/epoch - 144ms/step\n",
      "Epoch 30/50\n",
      "6/6 - 1s - loss: 0.0731 - accuracy: 0.9784 - val_loss: 0.0887 - val_accuracy: 0.9733 - 817ms/epoch - 136ms/step\n",
      "Epoch 31/50\n",
      "6/6 - 1s - loss: 0.0709 - accuracy: 0.9788 - val_loss: 0.0886 - val_accuracy: 0.9730 - 898ms/epoch - 150ms/step\n",
      "Epoch 32/50\n",
      "6/6 - 1s - loss: 0.0674 - accuracy: 0.9792 - val_loss: 0.0870 - val_accuracy: 0.9742 - 897ms/epoch - 150ms/step\n",
      "Epoch 33/50\n",
      "6/6 - 1s - loss: 0.0648 - accuracy: 0.9807 - val_loss: 0.0859 - val_accuracy: 0.9745 - 879ms/epoch - 147ms/step\n",
      "Epoch 34/50\n",
      "6/6 - 1s - loss: 0.0642 - accuracy: 0.9811 - val_loss: 0.0825 - val_accuracy: 0.9748 - 1s/epoch - 170ms/step\n",
      "Epoch 35/50\n",
      "6/6 - 1s - loss: 0.0617 - accuracy: 0.9817 - val_loss: 0.0788 - val_accuracy: 0.9777 - 1s/epoch - 188ms/step\n",
      "Epoch 36/50\n",
      "6/6 - 1s - loss: 0.0593 - accuracy: 0.9825 - val_loss: 0.0763 - val_accuracy: 0.9773 - 1s/epoch - 195ms/step\n",
      "Epoch 37/50\n",
      "6/6 - 1s - loss: 0.0566 - accuracy: 0.9837 - val_loss: 0.0745 - val_accuracy: 0.9778 - 1s/epoch - 180ms/step\n",
      "Epoch 38/50\n",
      "6/6 - 1s - loss: 0.0543 - accuracy: 0.9843 - val_loss: 0.0731 - val_accuracy: 0.9798 - 1s/epoch - 178ms/step\n",
      "Epoch 39/50\n",
      "6/6 - 1s - loss: 0.0525 - accuracy: 0.9850 - val_loss: 0.0709 - val_accuracy: 0.9803 - 1s/epoch - 218ms/step\n",
      "Epoch 40/50\n",
      "6/6 - 1s - loss: 0.0507 - accuracy: 0.9849 - val_loss: 0.0680 - val_accuracy: 0.9800 - 1s/epoch - 205ms/step\n",
      "Epoch 41/50\n",
      "6/6 - 1s - loss: 0.0500 - accuracy: 0.9856 - val_loss: 0.0676 - val_accuracy: 0.9802 - 1s/epoch - 191ms/step\n",
      "Epoch 42/50\n",
      "6/6 - 1s - loss: 0.0469 - accuracy: 0.9869 - val_loss: 0.0648 - val_accuracy: 0.9820 - 1s/epoch - 201ms/step\n",
      "Epoch 43/50\n",
      "6/6 - 1s - loss: 0.0451 - accuracy: 0.9873 - val_loss: 0.0656 - val_accuracy: 0.9808 - 1s/epoch - 200ms/step\n",
      "Epoch 44/50\n",
      "6/6 - 1s - loss: 0.0441 - accuracy: 0.9878 - val_loss: 0.0693 - val_accuracy: 0.9802 - 1s/epoch - 193ms/step\n",
      "Epoch 45/50\n",
      "6/6 - 1s - loss: 0.0445 - accuracy: 0.9870 - val_loss: 0.0699 - val_accuracy: 0.9802 - 1s/epoch - 182ms/step\n",
      "Epoch 46/50\n",
      "6/6 - 1s - loss: 0.0435 - accuracy: 0.9874 - val_loss: 0.0702 - val_accuracy: 0.9808 - 1s/epoch - 184ms/step\n",
      "Epoch 47/50\n",
      "6/6 - 1s - loss: 0.0443 - accuracy: 0.9867 - val_loss: 0.0658 - val_accuracy: 0.9797 - 1s/epoch - 179ms/step\n",
      "Epoch 48/50\n",
      "6/6 - 1s - loss: 0.0401 - accuracy: 0.9882 - val_loss: 0.0594 - val_accuracy: 0.9825 - 1s/epoch - 168ms/step\n",
      "Epoch 49/50\n",
      "6/6 - 1s - loss: 0.0378 - accuracy: 0.9891 - val_loss: 0.0560 - val_accuracy: 0.9830 - 1s/epoch - 171ms/step\n",
      "Epoch 50/50\n",
      "6/6 - 1s - loss: 0.0390 - accuracy: 0.9891 - val_loss: 0.0570 - val_accuracy: 0.9832 - 983ms/epoch - 164ms/step\n"
     ]
    },
    {
     "data": {
      "text/plain": [
       "<keras.callbacks.History at 0x21043b58fa0>"
      ]
     },
     "execution_count": 93,
     "metadata": {},
     "output_type": "execute_result"
    }
   ],
   "source": [
    "#NOW TRANING THE DATA\n",
    "\n",
    "NUM_EPOCHS=50\n",
    "model.fit(train_data,epochs=NUM_EPOCHS,validation_data=(validation_input,validation_target),verbose=2)"
   ]
  },
  {
   "cell_type": "markdown",
   "id": "865908ec",
   "metadata": {},
   "source": []
  },
  {
   "cell_type": "code",
   "execution_count": 94,
   "id": "7a249dc8",
   "metadata": {},
   "outputs": [
    {
     "name": "stdout",
     "output_type": "stream",
     "text": [
      "1/1 [==============================] - 0s 209ms/step - loss: 0.1303 - accuracy: 0.9668\n"
     ]
    }
   ],
   "source": [
    "test_loss,test_accuracy=model.evaluate(test_data)\n"
   ]
  },
  {
   "cell_type": "code",
   "execution_count": 95,
   "id": "f5f575b6",
   "metadata": {},
   "outputs": [
    {
     "name": "stdout",
     "output_type": "stream",
     "text": [
      "Test loss: 0.13. Test accuracy: 96.68%\n"
     ]
    }
   ],
   "source": [
    "print('Test loss: {0:.2f}. Test accuracy: {1:.2f}%'.format(test_loss, test_accuracy*100.))"
   ]
  },
  {
   "cell_type": "code",
   "execution_count": null,
   "id": "170bfa69",
   "metadata": {},
   "outputs": [],
   "source": []
  }
 ],
 "metadata": {
  "kernelspec": {
   "display_name": "Python 3 (ipykernel)",
   "language": "python",
   "name": "python3"
  },
  "language_info": {
   "codemirror_mode": {
    "name": "ipython",
    "version": 3
   },
   "file_extension": ".py",
   "mimetype": "text/x-python",
   "name": "python",
   "nbconvert_exporter": "python",
   "pygments_lexer": "ipython3",
   "version": "3.9.13"
  }
 },
 "nbformat": 4,
 "nbformat_minor": 5
}
